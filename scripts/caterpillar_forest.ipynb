{
 "cells": [
  {
   "cell_type": "code",
   "execution_count": 1,
   "id": "a66ad596",
   "metadata": {},
   "outputs": [
    {
     "data": {
      "image/png": "[encoded data removed]",
      "text/plain": [
       "<Figure size 432x288 with 1 Axes>"
      ]
     },
     "metadata": {},
     "output_type": "display_data"
    }
   ],
   "source": [
    "from datalife import get_critical_path, remove_cpath_from_graph, caterpillar_tree, find_caterpillar_forest\n",
    "\n",
    "import networkx as nx\n",
    "import matplotlib.pyplot as plt\n",
    "import plotly.graph_objects as go\n",
    "\n",
    "\n",
    "G = nx.DiGraph(\n",
    "    [\n",
    "        (\"a\", \"b\"),\n",
    "        ('d', 'e'),        \n",
    "        ('g','h'),\n",
    "        ('b','e'),\n",
    "        ('b','c'),\n",
    "        ('e','f'),\n",
    "        ('e','i'),\n",
    "        ('h','i')\n",
    "    ]\n",
    ")\n",
    "\n",
    "pos= { 'a': [0,0],\n",
    "     'b': [1,0],\n",
    "     'c': [2,0],\n",
    "     'd':[0,-1],\n",
    "      'e': [1,-1],\n",
    "     'f':[2,-1],\n",
    "     'g':[0,-2],\n",
    "     'h':[1,-2],\n",
    "     'i':[2,-2]}\n",
    "fig, ax = plt.subplots()\n",
    "nx.draw_networkx(G, pos=pos, ax=ax)\n",
    "fig.tight_layout()\n",
    "plt.show()"
   ]
  },
  {
   "cell_type": "code",
   "execution_count": 2,
   "id": "6b812152",
   "metadata": {},
   "outputs": [],
   "source": [
    "default_weight = 1\n",
    "for n in G.edges():\n",
    "    G.add_edge(n[0], n[1], weight=1)\n",
    "\n",
    "G.add_weighted_edges_from([('d','e',2),('e','f',3)])"
   ]
  },
  {
   "cell_type": "code",
   "execution_count": 3,
   "id": "1ae00337",
   "metadata": {},
   "outputs": [
    {
     "data": {
      "text/plain": [
       "['d', 'e', 'f']"
      ]
     },
     "execution_count": 3,
     "metadata": {},
     "output_type": "execute_result"
    }
   ],
   "source": [
    "cpath = get_critical_path(G)\n",
    "cpath"
   ]
  },
  {
   "cell_type": "code",
   "execution_count": 4,
   "id": "77916e0d",
   "metadata": {},
   "outputs": [],
   "source": [
    "ct = caterpillar_tree(G, cpath)"
   ]
  },
  {
   "cell_type": "code",
   "execution_count": 5,
   "id": "10524cd9",
   "metadata": {},
   "outputs": [
    {
     "data": {
      "image/png": "[encoded data removed]",
      "text/plain": [
       "<Figure size 432x288 with 1 Axes>"
      ]
     },
     "metadata": {},
     "output_type": "display_data"
    }
   ],
   "source": [
    "fig, ax = plt.subplots()\n",
    "nx.draw_networkx(ct, pos=pos, ax=ax)\n",
    "fig.tight_layout()\n",
    "plt.show()"
   ]
  },
  {
   "cell_type": "code",
   "execution_count": 6,
   "id": "652fd51a",
   "metadata": {},
   "outputs": [],
   "source": [
    "removed_g = remove_cpath_from_graph(G, cpath)"
   ]
  },
  {
   "cell_type": "code",
   "execution_count": 7,
   "id": "022ca519",
   "metadata": {},
   "outputs": [
    {
     "data": {
      "image/png": "[encoded data removed]",
      "text/plain": [
       "<Figure size 432x288 with 1 Axes>"
      ]
     },
     "metadata": {},
     "output_type": "display_data"
    }
   ],
   "source": [
    "fig, ax = plt.subplots()\n",
    "nx.draw_networkx(removed_g, pos=pos, ax=ax)\n",
    "fig.tight_layout()\n",
    "plt.show()"
   ]
  },
  {
   "cell_type": "code",
   "execution_count": 8,
   "id": "7c3ac7b6",
   "metadata": {},
   "outputs": [],
   "source": [
    "# find_caterpillar_forest in code\n",
    "def find_caterpillar_forest(G):\n",
    "    CT_s = []\n",
    "    dependent_edges = []\n",
    "    while(G.nodes or G.edges):\n",
    "        # find a critical path\n",
    "        cpath = get_critical_path(G)\n",
    "        # extract the CT along the critical path\n",
    "        CT_c = caterpillar_tree(G, cpath)\n",
    "        # Remove the vertices and edges only along the critical path\n",
    "        removed_g = remove_cpath_from_graph(G, cpath)\n",
    "        # (find dependencies across CT_s) for each of the vertices,\n",
    "        # v_c on the critical path of the current caterpillar tree, CT_c\n",
    "        for node in CT_c.nodes:\n",
    "            for ct_i in CT_s:\n",
    "                # if there is an edge between v_p and v_c, \n",
    "                # add a dependency edge between CT_c  and ct_i\n",
    "                o_edges = ct_i.out_edges(node)\n",
    "                i_edges = ct_i.in_edges(node)\n",
    "                dependent_edges += list(o_edges) + list(i_edges)\n",
    "        dependent_edges = list(set(dependent_edges))\n",
    "        CT_s.append(CT_c)\n",
    "        G = removed_g\n",
    "    return (CT_s, dependent_edges)"
   ]
  },
  {
   "cell_type": "code",
   "execution_count": 9,
   "id": "43cc4954",
   "metadata": {},
   "outputs": [
    {
     "data": {
      "text/plain": [
       "([<networkx.classes.digraph.DiGraph at 0x7fe6e591f650>,\n",
       "  <networkx.classes.digraph.DiGraph at 0x7fe6e7f42cd0>,\n",
       "  <networkx.classes.digraph.DiGraph at 0x7fe6e7fdae90>],\n",
       " [('e', 'i'), ('b', 'e')])"
      ]
     },
     "execution_count": 9,
     "metadata": {},
     "output_type": "execute_result"
    }
   ],
   "source": [
    "CT_s, dependent_edges = find_caterpillar_forest(G)\n",
    "CT_s, dependent_edges"
   ]
  }
 ],
 "metadata": {
  "kernelspec": {
   "display_name": "Python 3",
   "language": "python",
   "name": "python3"
  },
  "language_info": {
   "codemirror_mode": {
    "name": "ipython",
    "version": 3
   },
   "file_extension": ".py",
   "mimetype": "text/x-python",
   "name": "python",
   "nbconvert_exporter": "python",
   "pygments_lexer": "ipython3",
   "version": "3.7.13"
  }
 },
 "nbformat": 4,
 "nbformat_minor": 5
}
