{
 "cells": [
  {
   "cell_type": "code",
   "execution_count": null,
   "id": "78086d09",
   "metadata": {},
   "outputs": [],
   "source": [
    "from datalife import get_critical_path, remove_cpath_from_graph, caterpillar_tree, find_caterpillar_forest\n",
    "\n",
    "import networkx as nx\n",
    "import matplotlib.pyplot as plt\n",
    "import plotly.graph_objects as go\n",
    "import numpy as np\n",
    "\n",
    "G = nx.DiGraph(\n",
    "    [\n",
    "        (\"a\", \"b\"),\n",
    "        ('d', 'e'),        \n",
    "        ('g','h'),\n",
    "        ('b','e'),\n",
    "        ('b','c'),\n",
    "        ('e','f'),\n",
    "        ('e','i'),\n",
    "        ('h','i')\n",
    "    ]\n",
    ")\n",
    "\n",
    "pos= { 'a': [0,0],\n",
    "     'b': [1,0],\n",
    "     'c': [2,0],\n",
    "     'd':[0,-1],\n",
    "      'e': [1,-1],\n",
    "     'f':[2,-1],\n",
    "     'g':[0,-2],\n",
    "     'h':[1,-2],\n",
    "     'i':[2,-2]}\n",
    "fig, ax = plt.subplots()\n",
    "nx.draw_networkx(G, pos=pos, ax=ax)\n",
    "fig.tight_layout()\n",
    "plt.show()"
   ]
  },
  {
   "cell_type": "code",
   "execution_count": null,
   "id": "7cb80eb3",
   "metadata": {},
   "outputs": [],
   "source": [
    "default_weight = 1\n",
    "for n in G.edges():\n",
    "    G.add_edge(n[0], n[1], weight=1)\n",
    "\n",
    "G.add_weighted_edges_from([('d','e',2),('e','f',3)])"
   ]
  },
  {
   "cell_type": "code",
   "execution_count": null,
   "id": "1847f357",
   "metadata": {},
   "outputs": [],
   "source": [
    "cpath = get_critical_path(G)\n",
    "cpath"
   ]
  },
  {
   "cell_type": "code",
   "execution_count": null,
   "id": "4c8a0b48",
   "metadata": {},
   "outputs": [],
   "source": [
    "ct = caterpillar_tree(G, cpath)"
   ]
  },
  {
   "cell_type": "code",
   "execution_count": null,
   "id": "93e2590b",
   "metadata": {},
   "outputs": [],
   "source": [
    "fig, ax = plt.subplots()\n",
    "nx.draw_networkx(ct, pos=pos, ax=ax)\n",
    "fig.tight_layout()\n",
    "plt.show()"
   ]
  },
  {
   "cell_type": "code",
   "execution_count": null,
   "id": "430e6719",
   "metadata": {},
   "outputs": [],
   "source": [
    "removed_g = remove_cpath_from_graph(G, cpath)"
   ]
  },
  {
   "cell_type": "code",
   "execution_count": null,
   "id": "f470290d",
   "metadata": {},
   "outputs": [],
   "source": [
    "fig, ax = plt.subplots()\n",
    "nx.draw_networkx(removed_g, pos=pos, ax=ax)\n",
    "fig.tight_layout()\n",
    "plt.show()"
   ]
  },
  {
   "cell_type": "code",
   "execution_count": null,
   "id": "4d84a716",
   "metadata": {},
   "outputs": [],
   "source": [
    "# find_caterpillar_forest in code\n",
    "def find_caterpillar_forest(G):\n",
    "    CT_s = []\n",
    "    dependent_edges = []\n",
    "    cf = nx.DiGraph()\n",
    "    while(G.nodes or G.edges):\n",
    "        # find a critical path\n",
    "        cpath = get_critical_path(G)\n",
    "        # extract the CT along the critical path\n",
    "        CT_c = caterpillar_tree(G, cpath)\n",
    "        # Remove the vertices and edges only along the critical path\n",
    "        removed_g = remove_cpath_from_graph(G, cpath)        \n",
    "        # (find dependencies across CT_s) for each of the vertices,\n",
    "        # v_c on the critical path of the current caterpillar tree, CT_c\n",
    "        for ct_i in CT_s:\n",
    "            for node in CT_c.nodes:\n",
    "                # if there is an edge between v_p and v_c, \n",
    "                # add a dependency edge between CT_c  and ct_i\n",
    "                o_edges = ct_i.out_edges(node)\n",
    "                i_edges = ct_i.in_edges(node)\n",
    "                tmp = list(o_edges) + list(i_edges)\n",
    "                dependent_edges += tmp\n",
    "                if len(tmp) > 0:\n",
    "                    if(len(o_edges) > 0):\n",
    "                        cf.add_edge(CT_c, ct_i)\n",
    "                    if(len(i_edges) > 0):\n",
    "                        cf.add_edge(ct_i, CT_c)\n",
    "                else:\n",
    "                    cf.add_node(CT_c)\n",
    "                    cf.add_node(ct_i)\n",
    "        dependent_edges = list(set(dependent_edges))\n",
    "        CT_s.append(CT_c)\n",
    "        G = removed_g\n",
    "    return (cf, dependent_edges)"
   ]
  },
  {
   "cell_type": "code",
   "execution_count": null,
   "id": "9212d367",
   "metadata": {},
   "outputs": [],
   "source": [
    "cf, dependent_edges = find_caterpillar_forest(G)\n",
    "cf, dependent_edges"
   ]
  },
  {
   "cell_type": "code",
   "execution_count": null,
   "id": "2da41be6",
   "metadata": {},
   "outputs": [],
   "source": [
    "[x.nodes for x in [x for x in cf.nodes]]"
   ]
  },
  {
   "cell_type": "code",
   "execution_count": null,
   "id": "26924b8b",
   "metadata": {},
   "outputs": [],
   "source": [
    "fig = plt.figure(figsize=(16,4))\n",
    "\n",
    "gs = fig.add_gridspec(3,2)\n",
    "ax={}\n",
    "i=0\n",
    "ax[i] = fig.add_subplot(gs[0, 0])\n",
    "i+=1\n",
    "ax[i] = fig.add_subplot(gs[1, 0])\n",
    "i+=1\n",
    "ax[i] = fig.add_subplot(gs[2, 0])\n",
    "i+=1\n",
    "ax[i] = fig.add_subplot(gs[:, 1])\n",
    "\n",
    "i = 0\n",
    "ax[i].set_title('Caterpillar Forest')\n",
    "for n in cf.nodes:\n",
    "    nx.draw_networkx(n, pos=pos, ax=ax[i])\n",
    "    i+=1\n",
    "    #cf.add_node(n, pos=(i,-i))\n",
    "    cf.add_node(n, pos=(i,-i))\n",
    "\n",
    "_pos = {}\n",
    "for x in cf.nodes(data=True):\n",
    "    _pos[x[0]] = list(x[1]['pos'])\n",
    "\n",
    "ax[i].set_title('Shadow Graph')\n",
    "nx.draw_networkx(cf, pos=_pos, with_labels=True, ax=ax[i], node_size=1000, node_color=\"skyblue\", node_shape=\"s\", alpha=0.5, linewidths=10)\n",
    "fig.tight_layout()\n",
    "plt.show()"
   ]
  },
  {
   "cell_type": "code",
   "execution_count": null,
   "id": "574ef82e",
   "metadata": {},
   "outputs": [],
   "source": [
    "for n in cf.nodes:\n",
    "    i+=1\n",
    "    #cf.add_node(n, pos=(i,-i))\n",
    "    cf.add_node(n, pos=(0,-i))\n",
    "\n",
    "_pos = {}\n",
    "for x in cf.nodes(data=True):\n",
    "    _pos[x[0]] = list(x[1]['pos'])\n",
    "\n",
    "    \n",
    "lvl_ = {}\n",
    "level = 0\n",
    "for snode in cf.nodes:\n",
    "    lvl_[level] = snode\n",
    "    level += 1\n",
    "    \n",
    "#root 1 \n",
    "lvl0_copy = lvl_[0].copy()\n",
    "lvl1_copy = lvl_[1].copy()\n",
    "lvl2_copy = lvl_[2].copy()\n",
    "\n",
    "cf.add_edge(lvl0_copy, lvl1_copy)\n",
    "cf.add_edge(lvl1_copy, lvl_[2])\n",
    "\n",
    "_pos[lvl0_copy] = [_pos[lvl_[0]][0] + 1, _pos[lvl_[0]][1]]\n",
    "_pos[lvl1_copy] = [_pos[lvl_[1]][0] + 1, _pos[lvl_[1]][1]] \n",
    "\n",
    "# root 2\n",
    "lvl0_copy2 = lvl_[0].copy()\n",
    "lvl1_copy2 = lvl_[1].copy()\n",
    "#lvl2_copy2 = lvl_[2].copy()\n",
    "\n",
    "cf.add_edge(lvl0_copy2, lvl1_copy2)\n",
    "cf.add_edge(lvl0_copy2, lvl1_copy)\n",
    "\n",
    "_pos[lvl0_copy2] = [_pos[lvl_[0]][0] + 2, _pos[lvl_[0]][1]] \n",
    "_pos[lvl1_copy2] = [_pos[lvl_[1]][0] + 2, _pos[lvl_[1]][1]] "
   ]
  },
  {
   "cell_type": "code",
   "execution_count": null,
   "id": "b3d31fa4",
   "metadata": {},
   "outputs": [],
   "source": [
    "fig, ax = plt.subplots()\n",
    "ax.set_title('Extended Shadow Graph \\n(with multiple root nodes)')\n",
    "nx.draw_networkx(cf, with_labels=False, pos=_pos, node_size=1000, node_color=\"skyblue\", node_shape=\"s\", alpha=0.5, linewidths=10)\n",
    "plt.text(1.2, 0.9, 'level 0', horizontalalignment='center',\n",
    "     verticalalignment='center', transform=ax.transAxes)\n",
    "plt.text(1.2, 0.5, 'level 1', horizontalalignment='center',\n",
    "     verticalalignment='center', transform=ax.transAxes)\n",
    "plt.text(1.2, 0.1, 'level 2', horizontalalignment='center',\n",
    "     verticalalignment='center', transform=ax.transAxes)"
   ]
  },
  {
   "cell_type": "markdown",
   "id": "42e9cf9d",
   "metadata": {},
   "source": [
    "### how many CTs depend on the current CT"
   ]
  },
  {
   "cell_type": "code",
   "execution_count": null,
   "id": "a51768b6",
   "metadata": {},
   "outputs": [],
   "source": [
    "def get_roots(G):\n",
    "    roots = []\n",
    "    for ct_node in G.nodes:\n",
    "        pred_iter = G.predecessors(ct_node)\n",
    "        pred_l = [x for x in pred_iter]\n",
    "        if len(pred_l) == 0:\n",
    "            roots.append(ct_node)\n",
    "    return roots"
   ]
  },
  {
   "cell_type": "code",
   "execution_count": null,
   "id": "f489efdb",
   "metadata": {},
   "outputs": [],
   "source": [
    "roots = get_roots(cf)\n",
    "roots"
   ]
  },
  {
   "cell_type": "code",
   "execution_count": null,
   "id": "e20ea4f0",
   "metadata": {},
   "outputs": [],
   "source": [
    "def get_dependent_ct_count(G, ct_list):\n",
    "    res = {}\n",
    "    for ct in ct_list:\n",
    "        succ_iter = G.successors(ct)\n",
    "        succ_l = [x for x in succ_iter]\n",
    "        res[ct] = len(succ_l)\n",
    "    return res"
   ]
  },
  {
   "cell_type": "code",
   "execution_count": null,
   "id": "3037cf0c",
   "metadata": {},
   "outputs": [],
   "source": [
    "cts_with_cnt = get_dependent_ct_count(cf, roots)\n",
    "idx = 0\n",
    "for root in roots:\n",
    "    print(\"root [{}] has dependent ct: {}\".format(idx, cts_with_cnt[roots[idx]]))\n",
    "    idx += 1"
   ]
  },
  {
   "cell_type": "markdown",
   "id": "62ced322",
   "metadata": {},
   "source": [
    "### Within a CT, how many tasks can be executed before waiting for a dependency to be fulfilled (no of hops before first stall)"
   ]
  },
  {
   "cell_type": "code",
   "execution_count": null,
   "id": "2315717d",
   "metadata": {},
   "outputs": [],
   "source": [
    "def get_first_stalls(G, d_edges):\n",
    "    d_edges_flattened = []\n",
    "    for edge in d_edges:\n",
    "        d_edges_flattened += edge\n",
    "    d_edges_flattened = list(set(d_edges_flattened))\n",
    "    found_node = None\n",
    "    for node in d_edges_flattened:\n",
    "        tmp = G.edges(node)\n",
    "        if len(tmp) > 0:\n",
    "            found_node = node\n",
    "            break\n",
    "    first_stalls = []            \n",
    "    if found_node is not None:\n",
    "        tmp = [found_node]\n",
    "        while (tmp):\n",
    "            curr = tmp.pop()\n",
    "            pred_iter = G.predecessors(curr)\n",
    "            pred_l = [x for x in pred_iter]\n",
    "            if len(pred_l) > 0:\n",
    "                tmp = pred_l\n",
    "                first_stalls += pred_l\n",
    "    return first_stalls"
   ]
  },
  {
   "cell_type": "code",
   "execution_count": null,
   "id": "a919bf4c",
   "metadata": {},
   "outputs": [],
   "source": [
    "res = []\n",
    "for root in roots:\n",
    "    root_first_stalls = get_first_stalls(root, dependent_edges)\n",
    "    res.append((root, len(root_first_stalls)))"
   ]
  },
  {
   "cell_type": "code",
   "execution_count": null,
   "id": "a46aa79a",
   "metadata": {},
   "outputs": [],
   "source": [
    "idx = 0\n",
    "for r in res:\n",
    "    print ('first stall count of root {}: {}'.format(idx, r[1]))\n",
    "    idx += 1"
   ]
  },
  {
   "cell_type": "markdown",
   "id": "0f3488af",
   "metadata": {},
   "source": [
    "### Sum of the edge “metric” along the current CT edges (for example data volume)"
   ]
  },
  {
   "cell_type": "code",
   "execution_count": null,
   "id": "b58b0d55",
   "metadata": {},
   "outputs": [],
   "source": [
    "def get_edge_attributes(G, metric='value'):\n",
    "    return [x[2][metric] for x in G.edges(data=True)]\n",
    "get_edge_attributes(roots[1], 'value')"
   ]
  },
  {
   "cell_type": "markdown",
   "id": "b8e59208",
   "metadata": {},
   "source": [
    "### Associate vertex priority to each of the vertices in the shadow graph"
   ]
  },
  {
   "cell_type": "code",
   "execution_count": null,
   "id": "ae735b95",
   "metadata": {},
   "outputs": [],
   "source": [
    "def find_vertex_priority(cforest, G_list, dependent_edges, metric='value', op='sum'):\n",
    "    cts_cnt = get_dependent_ct_count(cforest, G_list)\n",
    "    res = {}\n",
    "    for G in G_list:\n",
    "        first_stalls = get_first_stalls(G, dependent_edges)\n",
    "        attrs = get_edge_attributes(G, metric)\n",
    "        func = getattr(np, op)\n",
    "        mvalue = func(attrs)\n",
    "        res[G] = (cts_cnt[G], len(first_stalls), mvalue)\n",
    "    return res"
   ]
  },
  {
   "cell_type": "code",
   "execution_count": null,
   "id": "70d27de5",
   "metadata": {},
   "outputs": [],
   "source": [
    "vertex_priorities = find_vertex_priority(cf, roots, dependent_edges)\n",
    "vertex_priorities"
   ]
  },
  {
   "cell_type": "markdown",
   "id": "a8e96c63",
   "metadata": {},
   "source": [
    "### vertices within the same level will be prioritized for resource allocation based on their priority"
   ]
  },
  {
   "cell_type": "code",
   "execution_count": null,
   "id": "f23e39f1",
   "metadata": {},
   "outputs": [],
   "source": [
    "{k: v for k, v in sorted(vertex_priorities.items(), key=lambda item: item[1], reverse=True)}"
   ]
  },
  {
   "cell_type": "markdown",
   "id": "f5ece72a",
   "metadata": {},
   "source": [
    "### `current_queue` with all root nodes at beginning (q[0] from slide 6)"
   ]
  },
  {
   "cell_type": "code",
   "execution_count": null,
   "id": "73b07fb2",
   "metadata": {},
   "outputs": [],
   "source": [
    "current_queue = [(k, v) for k, v in sorted(vertex_priorities.items(), key=lambda item: item[1], reverse=True)]"
   ]
  },
  {
   "cell_type": "markdown",
   "id": "ac3beb59",
   "metadata": {},
   "source": [
    "### Default resource set for task node, i.e., data volume and rate (as node attribute)"
   ]
  },
  {
   "cell_type": "code",
   "execution_count": null,
   "id": "441021c2",
   "metadata": {},
   "outputs": [],
   "source": [
    "default_resource_set = {'data_size_local': 1024*1024, 'data_size_global': 1024*1024, \n",
    "                          'data_rate_local':3000, 'data_rate_global': 3000}"
   ]
  },
  {
   "cell_type": "code",
   "execution_count": null,
   "id": "38761ef0",
   "metadata": {},
   "outputs": [],
   "source": [
    "pd.DataFrame.from_dict(default_resource_set, orient='index')"
   ]
  },
  {
   "cell_type": "markdown",
   "id": "3a507d59",
   "metadata": {},
   "source": [
    "Units are bytes  for `data_size` and byte/second for `data_rate`."
   ]
  },
  {
   "cell_type": "markdown",
   "id": "3b518bd9",
   "metadata": {},
   "source": [
    "### Check how much resource is needed to schedule CT v, `check_resource_req`"
   ]
  },
  {
   "cell_type": "code",
   "execution_count": null,
   "id": "604b3054",
   "metadata": {},
   "outputs": [],
   "source": [
    "def check_resource_req(G, resource_grp = default_resource_set):\n",
    "    '''return total sum value of concurrent vertex resource attributes'''\n",
    "    resource_max = resource_grp.copy()\n",
    "    for ct_node in G.nodes:\n",
    "        for n in nx.neighbors(G, ct_node):\n",
    "            resource_tmp = {k: 0 for k, v in resource_grp.items()}\n",
    "            for k, v in resource_grp.items():\n",
    "                if k in G.nodes[n]:\n",
    "                    resource_tmp[k] += G.nodes[n][k]\n",
    "                else:\n",
    "                    resource_tmp[k] += resource_grp[k] # default val\n",
    "        for k, v in resource_grp.items():\n",
    "            resource_max[k] = max(resource_max[k], resource_tmp[k])\n",
    "    return resource_max     "
   ]
  },
  {
   "cell_type": "code",
   "execution_count": null,
   "id": "a834c96c",
   "metadata": {},
   "outputs": [],
   "source": [
    "import random\n",
    "def rand_resource(G, resource_grp = {'data_size': 1024*1024, 'data_rate':2000}):\n",
    "    resource_res = {}\n",
    "    for ct_node in G.nodes:\n",
    "        resource_tmp = {k: 0 for k, v in resource_grp.items()}\n",
    "        for k, v in resource_grp.items():\n",
    "            resource_tmp[k] = random.randint(1, int(v))\n",
    "        resource_res[ct_node] = resource_tmp\n",
    "    nx.set_node_attributes(G, resource_res)\n",
    "#    print(resource_res)\n",
    "    return G"
   ]
  },
  {
   "cell_type": "code",
   "execution_count": null,
   "id": "0a04cd7c",
   "metadata": {},
   "outputs": [],
   "source": [
    "def rand_exec_time(G, exec_time_grp = {'exec_time_list': [60, 61, 62, 63, 64], #second, \n",
    "                                       'upper_bound': 2, # addition,\n",
    "                                       'lower_bound': 1 # deduction\n",
    "                                      }):\n",
    "    time_res = {}\n",
    "    for ct_node in G.nodes:\n",
    "        time_tmp = {}\n",
    "        for k, v in exec_time_grp.items():\n",
    "            if isinstance(v, list):\n",
    "                min_v = min(v)\n",
    "                max_v = max(v)\n",
    "                len_v = len(v)\n",
    "                rnd_list = [random.randint(int(min_v), int(max_v)) for x in range(len_v)]\n",
    "                time_tmp[k] = rnd_list\n",
    "            else:\n",
    "                time_tmp[k] = random.randint(1, int(v))\n",
    "        time_res[ct_node] = time_tmp\n",
    "    nx.set_node_attributes(G, time_res)\n",
    "    return G"
   ]
  },
  {
   "cell_type": "markdown",
   "id": "10ec0478",
   "metadata": {},
   "source": [
    "### Compute resource pool (example of node 1, 2 and 3)"
   ]
  },
  {
   "cell_type": "code",
   "execution_count": null,
   "id": "ad7e1f99",
   "metadata": {},
   "outputs": [],
   "source": [
    "import pandas as pd\n",
    "\n",
    "res_dict = {'node_1': [1024*1024*100, 1024*1024*10, 3000, 2000], 'node_2': [1024*1024*10, 1024*1024*5, 4000, 3000],\n",
    "            'node_3': [1024*1024*50, 1024*1024*80, 2000, 3000]}\n",
    "res_df = pd.DataFrame.from_dict(res_dict, orient='index',\n",
    "                       columns=['data_size_local', 'data_size_global', 'data_rate_local', 'data_rate_global'])\n",
    "res_capacity = res_df.copy()\n",
    "res_df"
   ]
  },
  {
   "cell_type": "markdown",
   "id": "27a0bab7",
   "metadata": {},
   "source": [
    "## Request resource function rf"
   ]
  },
  {
   "cell_type": "code",
   "execution_count": null,
   "id": "dd70c36c",
   "metadata": {},
   "outputs": [],
   "source": [
    "def get_resource_pool():\n",
    "    return res_df\n",
    "\n",
    "def update_resource_pool(df, rtype, rdf):\n",
    "    for i in range(len(rdf)):\n",
    "        rdata = rdf.iloc[i]\n",
    "        if rtype == 'acquisition':\n",
    "            for k, v in rdata.items():\n",
    "                df.loc[rdata.name][k] -= rdata[k]\n",
    "        elif rtype == 'release':\n",
    "            for k, v in rdata.items():\n",
    "                df.loc[rdata.name][k] += rdata[k]\n",
    "    return df\n",
    "\n",
    "def request_resource_func(df, rgroup):\n",
    "    \"\"\"\n",
    "    Arguments:\n",
    "        rgroup (dict): required resources\n",
    "    Returns:\n",
    "        res (DataFrame): available resource (row)\n",
    "    \"\"\"\n",
    "    res = df\n",
    "    for k, v in rgroup.items():\n",
    "        res = res.loc[df[k] >= v]\n",
    "    return res#res.iloc[0]"
   ]
  },
  {
   "cell_type": "code",
   "execution_count": null,
   "id": "689b9870",
   "metadata": {},
   "outputs": [],
   "source": [
    "requested_rsize = {'data_size_local': 1024*1024*2, 'data_size_global': 1024*1024*1, \n",
    "                   'data_rate_local':1000, 'data_rate_global':1000}\n",
    "columns = requested_rsize.keys()\n",
    "values = list(requested_rsize.values())\n",
    "requested_size = pd.DataFrame.from_dict(data={'node_2': values}, columns=columns, orient='index')\n",
    "update_resource_pool(res_df, 'acquisition', requested_size)"
   ]
  },
  {
   "cell_type": "code",
   "execution_count": null,
   "id": "90e503eb",
   "metadata": {},
   "outputs": [],
   "source": [
    "update_resource_pool(res_df, 'release', requested_size)"
   ]
  },
  {
   "cell_type": "code",
   "execution_count": null,
   "id": "22f4cbb1",
   "metadata": {},
   "outputs": [],
   "source": [
    "def get_expected_exec_time(task_attr):\n",
    "    median = np.median(task_attr['exec_time_list'])\n",
    "    upper_b = task_attr['upper_bound']\n",
    "    return median + upper_b\n",
    "    \n",
    "def spawn_ct_tasks(ct_node, rdf):\n",
    "    res = []\n",
    "    rdf_ = rdf.copy()\n",
    "    row_cnt = len(rdf_)\n",
    "    i = 0\n",
    "    for task_node, task_attr in ct_node.nodes(data=True):\n",
    "        rdf__ = rdf_\n",
    "        for k, v in task_attr.items():\n",
    "            if k in rdf_:\n",
    "                rdf__ = rdf__.loc[rdf_[k] >= v]\n",
    "        if len(rdf__) > 0:\n",
    "            rdata = rdf__.iloc[0]\n",
    "            resource_nodename = rdata.name\n",
    "            exec_time = get_expected_exec_time(task_attr)\n",
    "            task_scheduled = (resource_nodename, task_node, exec_time)\n",
    "            for k, v in rdata.items():\n",
    "                rdf__.loc[rdata.name][k] -= rdata[k]\n",
    "            res.append(task_scheduled)\n",
    "            i += 1\n",
    "    return res"
   ]
  },
  {
   "cell_type": "code",
   "execution_count": null,
   "id": "7ebce4b9",
   "metadata": {},
   "outputs": [],
   "source": [
    "def bfs_level_sync(G, current_queue):\n",
    "    while current_queue:\n",
    "        for ct_node in current_queue:\n",
    "            required_resources = check_resource_req(ct_node)\n",
    "            #print(required_resources)\n",
    "            res_df = get_resource_pool()\n",
    "            res_avail = request_resource_func(res_df, required_resources)\n",
    "            #print(res_avail)\n",
    "            if len(res_avail) > 0:\n",
    "                res_df_updated = update_resource_pool(res_df, 'acquisition', res_avail)\n",
    "                # task assignment\n",
    "                task_assigned = spawn_ct_tasks(ct_node, res_avail)\n",
    "                header = \"compute_nodename, task_nodename, execution_time (s)\\n\"\n",
    "                print(header + \\\n",
    "                      '-' * len(header))\n",
    "                print(task_assigned)\n",
    "                #print(res_df_updated)\n",
    "                res_df_updated = update_resource_pool(res_df, 'release', res_avail)\n",
    "                #print(res_df_updated)\n",
    "            break\n",
    "        break"
   ]
  },
  {
   "cell_type": "code",
   "execution_count": null,
   "id": "c7cb0439",
   "metadata": {},
   "outputs": [],
   "source": [
    "for x in current_queue:\n",
    "    rand_resource(x[0])\n",
    "    rand_exec_time(x[0])\n",
    "bfs_level_sync(G, [x[0] for x in current_queue])"
   ]
  },
  {
   "cell_type": "code",
   "execution_count": null,
   "id": "67154ab2",
   "metadata": {},
   "outputs": [],
   "source": [
    "res_df = get_resource_pool()\n",
    "res_df"
   ]
  },
  {
   "cell_type": "code",
   "execution_count": null,
   "id": "03e15f82",
   "metadata": {},
   "outputs": [],
   "source": [
    "required_resources = check_resource_req(roots[0])\n",
    "res_avail = request_resource_func(res_df, required_resources)\n",
    "required_resources, res_avail"
   ]
  }
 ],
 "metadata": {
  "kernelspec": {
   "display_name": "Python 3",
   "language": "python",
   "name": "python3"
  },
  "language_info": {
   "codemirror_mode": {
    "name": "ipython",
    "version": 3
   },
   "file_extension": ".py",
   "mimetype": "text/x-python",
   "name": "python",
   "nbconvert_exporter": "python",
   "pygments_lexer": "ipython3",
   "version": "3.7.13"
  }
 },
 "nbformat": 4,
 "nbformat_minor": 5
}
